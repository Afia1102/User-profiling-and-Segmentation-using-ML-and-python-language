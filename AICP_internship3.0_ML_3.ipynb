{
 "cells": [
  {
   "cell_type": "markdown",
   "id": "2bf4d02f-7155-4030-a92f-8e7561cda24d",
   "metadata": {},
   "source": [
    "#### import necessary libraries"
   ]
  },
  {
   "cell_type": "code",
   "execution_count": 1,
   "id": "74b7a8f0-c62d-42b2-96e0-29828dbd09b4",
   "metadata": {},
   "outputs": [],
   "source": [
    "import pandas as pd\n",
    "from collections import Counter\n",
    "import re\n",
    "import plotly.express as px\n",
    "import plotly.io as pio\n",
    "pio.templates.default = \"plotly_white\"\n"
   ]
  },
  {
   "cell_type": "markdown",
   "id": "7ec004a9-0177-4514-807f-e10b65db9c2a",
   "metadata": {},
   "source": [
    "#### Q.1: Import data and check null values, check column info and the descriptive statistics of the data."
   ]
  },
  {
   "cell_type": "code",
   "execution_count": 3,
   "id": "88caccd0-95dc-4d7f-92ef-de25191bdbb0",
   "metadata": {},
   "outputs": [],
   "source": [
    "data=pd.read_csv('Queries.csv')"
   ]
  },
  {
   "cell_type": "code",
   "execution_count": 4,
   "id": "714333a1-eeff-47c0-9dfc-83aee1f88828",
   "metadata": {},
   "outputs": [],
   "source": [
    "df=pd.DataFrame(data)"
   ]
  },
  {
   "cell_type": "code",
   "execution_count": 5,
   "id": "193d08d0-8d69-47c3-b7e8-d781dc00712b",
   "metadata": {},
   "outputs": [
    {
     "data": {
      "text/html": [
       "<div>\n",
       "<style scoped>\n",
       "    .dataframe tbody tr th:only-of-type {\n",
       "        vertical-align: middle;\n",
       "    }\n",
       "\n",
       "    .dataframe tbody tr th {\n",
       "        vertical-align: top;\n",
       "    }\n",
       "\n",
       "    .dataframe thead th {\n",
       "        text-align: right;\n",
       "    }\n",
       "</style>\n",
       "<table border=\"1\" class=\"dataframe\">\n",
       "  <thead>\n",
       "    <tr style=\"text-align: right;\">\n",
       "      <th></th>\n",
       "      <th>Top queries</th>\n",
       "      <th>Clicks</th>\n",
       "      <th>Impressions</th>\n",
       "      <th>CTR</th>\n",
       "      <th>Position</th>\n",
       "    </tr>\n",
       "  </thead>\n",
       "  <tbody>\n",
       "    <tr>\n",
       "      <th>0</th>\n",
       "      <td>number guessing game python</td>\n",
       "      <td>5223</td>\n",
       "      <td>14578</td>\n",
       "      <td>35.83%</td>\n",
       "      <td>1.61</td>\n",
       "    </tr>\n",
       "    <tr>\n",
       "      <th>1</th>\n",
       "      <td>thecleverprogrammer</td>\n",
       "      <td>2809</td>\n",
       "      <td>3456</td>\n",
       "      <td>81.28%</td>\n",
       "      <td>1.02</td>\n",
       "    </tr>\n",
       "    <tr>\n",
       "      <th>2</th>\n",
       "      <td>python projects with source code</td>\n",
       "      <td>2077</td>\n",
       "      <td>73380</td>\n",
       "      <td>2.83%</td>\n",
       "      <td>5.94</td>\n",
       "    </tr>\n",
       "    <tr>\n",
       "      <th>3</th>\n",
       "      <td>classification report in machine learning</td>\n",
       "      <td>2012</td>\n",
       "      <td>4959</td>\n",
       "      <td>40.57%</td>\n",
       "      <td>1.28</td>\n",
       "    </tr>\n",
       "    <tr>\n",
       "      <th>4</th>\n",
       "      <td>the clever programmer</td>\n",
       "      <td>1931</td>\n",
       "      <td>2528</td>\n",
       "      <td>76.38%</td>\n",
       "      <td>1.09</td>\n",
       "    </tr>\n",
       "    <tr>\n",
       "      <th>...</th>\n",
       "      <td>...</td>\n",
       "      <td>...</td>\n",
       "      <td>...</td>\n",
       "      <td>...</td>\n",
       "      <td>...</td>\n",
       "    </tr>\n",
       "    <tr>\n",
       "      <th>995</th>\n",
       "      <td>human activity recognition python code</td>\n",
       "      <td>48</td>\n",
       "      <td>369</td>\n",
       "      <td>13.01%</td>\n",
       "      <td>6.53</td>\n",
       "    </tr>\n",
       "    <tr>\n",
       "      <th>996</th>\n",
       "      <td>python contact book project</td>\n",
       "      <td>48</td>\n",
       "      <td>334</td>\n",
       "      <td>14.37%</td>\n",
       "      <td>4.92</td>\n",
       "    </tr>\n",
       "    <tr>\n",
       "      <th>997</th>\n",
       "      <td>why standard scaler is used</td>\n",
       "      <td>48</td>\n",
       "      <td>295</td>\n",
       "      <td>16.27%</td>\n",
       "      <td>2.07</td>\n",
       "    </tr>\n",
       "    <tr>\n",
       "      <th>998</th>\n",
       "      <td>credit scoring machine learning python</td>\n",
       "      <td>48</td>\n",
       "      <td>243</td>\n",
       "      <td>19.75%</td>\n",
       "      <td>6.40</td>\n",
       "    </tr>\n",
       "    <tr>\n",
       "      <th>999</th>\n",
       "      <td>numpy useful functions</td>\n",
       "      <td>48</td>\n",
       "      <td>166</td>\n",
       "      <td>28.92%</td>\n",
       "      <td>2.73</td>\n",
       "    </tr>\n",
       "  </tbody>\n",
       "</table>\n",
       "<p>1000 rows × 5 columns</p>\n",
       "</div>"
      ],
      "text/plain": [
       "                                   Top queries  Clicks  Impressions     CTR  \\\n",
       "0                  number guessing game python    5223        14578  35.83%   \n",
       "1                          thecleverprogrammer    2809         3456  81.28%   \n",
       "2             python projects with source code    2077        73380   2.83%   \n",
       "3    classification report in machine learning    2012         4959  40.57%   \n",
       "4                        the clever programmer    1931         2528  76.38%   \n",
       "..                                         ...     ...          ...     ...   \n",
       "995     human activity recognition python code      48          369  13.01%   \n",
       "996                python contact book project      48          334  14.37%   \n",
       "997                why standard scaler is used      48          295  16.27%   \n",
       "998     credit scoring machine learning python      48          243  19.75%   \n",
       "999                     numpy useful functions      48          166  28.92%   \n",
       "\n",
       "     Position  \n",
       "0        1.61  \n",
       "1        1.02  \n",
       "2        5.94  \n",
       "3        1.28  \n",
       "4        1.09  \n",
       "..        ...  \n",
       "995      6.53  \n",
       "996      4.92  \n",
       "997      2.07  \n",
       "998      6.40  \n",
       "999      2.73  \n",
       "\n",
       "[1000 rows x 5 columns]"
      ]
     },
     "execution_count": 5,
     "metadata": {},
     "output_type": "execute_result"
    }
   ],
   "source": [
    "data"
   ]
  },
  {
   "cell_type": "code",
   "execution_count": 8,
   "id": "0d36481f-3e0f-4212-8c80-55bf41116907",
   "metadata": {},
   "outputs": [
    {
     "name": "stdout",
     "output_type": "stream",
     "text": [
      "<class 'pandas.core.frame.DataFrame'>\n",
      "RangeIndex: 1000 entries, 0 to 999\n",
      "Data columns (total 5 columns):\n",
      " #   Column       Non-Null Count  Dtype  \n",
      "---  ------       --------------  -----  \n",
      " 0   Top queries  1000 non-null   object \n",
      " 1   Clicks       1000 non-null   int64  \n",
      " 2   Impressions  1000 non-null   int64  \n",
      " 3   CTR          1000 non-null   object \n",
      " 4   Position     1000 non-null   float64\n",
      "dtypes: float64(1), int64(2), object(2)\n",
      "memory usage: 39.2+ KB\n"
     ]
    }
   ],
   "source": [
    "data.info()"
   ]
  },
  {
   "cell_type": "code",
   "execution_count": 11,
   "id": "f5786635-609a-4d39-80e3-8bfb17fcdc1b",
   "metadata": {},
   "outputs": [
    {
     "data": {
      "text/plain": [
       "Top queries    0\n",
       "Clicks         0\n",
       "Impressions    0\n",
       "CTR            0\n",
       "Position       0\n",
       "dtype: int64"
      ]
     },
     "execution_count": 11,
     "metadata": {},
     "output_type": "execute_result"
    }
   ],
   "source": [
    "data.isnull().sum()"
   ]
  },
  {
   "cell_type": "code",
   "execution_count": 13,
   "id": "33949e39-152f-4a15-8756-9608b1e39b76",
   "metadata": {},
   "outputs": [
    {
     "data": {
      "text/html": [
       "<div>\n",
       "<style scoped>\n",
       "    .dataframe tbody tr th:only-of-type {\n",
       "        vertical-align: middle;\n",
       "    }\n",
       "\n",
       "    .dataframe tbody tr th {\n",
       "        vertical-align: top;\n",
       "    }\n",
       "\n",
       "    .dataframe thead th {\n",
       "        text-align: right;\n",
       "    }\n",
       "</style>\n",
       "<table border=\"1\" class=\"dataframe\">\n",
       "  <thead>\n",
       "    <tr style=\"text-align: right;\">\n",
       "      <th></th>\n",
       "      <th>Clicks</th>\n",
       "      <th>Impressions</th>\n",
       "      <th>Position</th>\n",
       "    </tr>\n",
       "  </thead>\n",
       "  <tbody>\n",
       "    <tr>\n",
       "      <th>count</th>\n",
       "      <td>1000.0000</td>\n",
       "      <td>1000.000000</td>\n",
       "      <td>1000.000000</td>\n",
       "    </tr>\n",
       "    <tr>\n",
       "      <th>mean</th>\n",
       "      <td>172.2750</td>\n",
       "      <td>1939.466000</td>\n",
       "      <td>3.985930</td>\n",
       "    </tr>\n",
       "    <tr>\n",
       "      <th>std</th>\n",
       "      <td>281.0221</td>\n",
       "      <td>4856.702605</td>\n",
       "      <td>2.841842</td>\n",
       "    </tr>\n",
       "    <tr>\n",
       "      <th>min</th>\n",
       "      <td>48.0000</td>\n",
       "      <td>62.000000</td>\n",
       "      <td>1.000000</td>\n",
       "    </tr>\n",
       "    <tr>\n",
       "      <th>25%</th>\n",
       "      <td>64.0000</td>\n",
       "      <td>311.000000</td>\n",
       "      <td>2.010000</td>\n",
       "    </tr>\n",
       "    <tr>\n",
       "      <th>50%</th>\n",
       "      <td>94.0000</td>\n",
       "      <td>590.500000</td>\n",
       "      <td>3.120000</td>\n",
       "    </tr>\n",
       "    <tr>\n",
       "      <th>75%</th>\n",
       "      <td>169.0000</td>\n",
       "      <td>1582.750000</td>\n",
       "      <td>5.342500</td>\n",
       "    </tr>\n",
       "    <tr>\n",
       "      <th>max</th>\n",
       "      <td>5223.0000</td>\n",
       "      <td>73380.000000</td>\n",
       "      <td>28.520000</td>\n",
       "    </tr>\n",
       "  </tbody>\n",
       "</table>\n",
       "</div>"
      ],
      "text/plain": [
       "          Clicks   Impressions     Position\n",
       "count  1000.0000   1000.000000  1000.000000\n",
       "mean    172.2750   1939.466000     3.985930\n",
       "std     281.0221   4856.702605     2.841842\n",
       "min      48.0000     62.000000     1.000000\n",
       "25%      64.0000    311.000000     2.010000\n",
       "50%      94.0000    590.500000     3.120000\n",
       "75%     169.0000   1582.750000     5.342500\n",
       "max    5223.0000  73380.000000    28.520000"
      ]
     },
     "execution_count": 13,
     "metadata": {},
     "output_type": "execute_result"
    }
   ],
   "source": [
    "data.describe()"
   ]
  },
  {
   "cell_type": "markdown",
   "id": "f43f2652-c5a6-4daf-ab13-34eb95203c3e",
   "metadata": {},
   "source": [
    "#### Q.2: Now convert the CTR column from a percentage string to a float"
   ]
  },
  {
   "cell_type": "code",
   "execution_count": null,
   "id": "21b0facc-48da-4c37-a42e-ad2ce937e12a",
   "metadata": {},
   "outputs": [],
   "source": []
  }
 ],
 "metadata": {
  "kernelspec": {
   "display_name": "Python 3 (ipykernel)",
   "language": "python",
   "name": "python3"
  },
  "language_info": {
   "codemirror_mode": {
    "name": "ipython",
    "version": 3
   },
   "file_extension": ".py",
   "mimetype": "text/x-python",
   "name": "python",
   "nbconvert_exporter": "python",
   "pygments_lexer": "ipython3",
   "version": "3.11.1"
  }
 },
 "nbformat": 4,
 "nbformat_minor": 5
}
